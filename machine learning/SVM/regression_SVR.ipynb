{
 "cells": [
  {
   "cell_type": "code",
   "execution_count": 1,
   "metadata": {
    "collapsed": true
   },
   "outputs": [],
   "source": [
    "import numpy as np\n",
    "from sklearn import svm\n",
    "from sklearn.model_selection import GridSearchCV    # 0.17 grid_search\n",
    "import matplotlib.pyplot as plt"
   ]
  },
  {
   "cell_type": "markdown",
   "metadata": {},
   "source": [
    "# Dataset"
   ]
  },
  {
   "cell_type": "code",
   "execution_count": 2,
   "metadata": {},
   "outputs": [
    {
     "name": "stdout",
     "output_type": "stream",
     "text": [
      "x =\n",
      " [[ 0.1127388 ]\n",
      " [ 0.12131038]\n",
      " [ 0.36135283]\n",
      " [ 0.42621635]\n",
      " [ 0.5227758 ]\n",
      " [ 0.70964656]\n",
      " [ 0.77355779]\n",
      " [ 0.86011972]\n",
      " [ 1.26229537]\n",
      " [ 1.58733367]\n",
      " [ 1.89257011]\n",
      " [ 2.1570474 ]\n",
      " [ 2.18226463]\n",
      " [ 2.30064911]\n",
      " [ 2.48797164]\n",
      " [ 2.5419288 ]\n",
      " [ 2.62219172]\n",
      " [ 2.62552327]\n",
      " [ 2.73690199]\n",
      " [ 2.76887617]\n",
      " [ 3.13108993]\n",
      " [ 3.17336952]\n",
      " [ 3.2692991 ]\n",
      " [ 3.29288102]\n",
      " [ 3.40826737]\n",
      " [ 3.41060369]\n",
      " [ 3.61658026]\n",
      " [ 3.67257434]\n",
      " [ 3.70160398]\n",
      " [ 3.70581298]\n",
      " [ 3.83952613]\n",
      " [ 3.87536468]\n",
      " [ 4.00060029]\n",
      " [ 4.02382722]\n",
      " [ 4.09092179]\n",
      " [ 4.18578718]\n",
      " [ 4.2911362 ]\n",
      " [ 4.64540214]\n",
      " [ 4.66894051]\n",
      " [ 4.68317506]\n",
      " [ 4.75035023]\n",
      " [ 4.79495139]\n",
      " [ 4.99571907]\n",
      " [ 5.22007289]\n",
      " [ 5.350638  ]\n",
      " [ 5.55357983]\n",
      " [ 5.66248847]\n",
      " [ 5.6680135 ]\n",
      " [ 5.78197656]\n",
      " [ 5.87171005]]\n",
      "y =\n",
      " [ 0.05437325  0.43710367  0.65611482  0.78304981  0.87329469  1.38088042\n",
      "  1.23598022  1.49456731  1.81603293  2.03841677  1.84627139  1.54797796\n",
      "  1.63479377  1.53337832  1.22278185  1.15897721  0.92928812  0.95065638\n",
      "  0.72022281  0.69233817 -0.06030957 -0.23617129 -0.23697659 -0.34160192\n",
      " -0.69007014 -0.48527812 -1.00538468 -1.00756566 -0.98948253 -1.05661601\n",
      " -1.17133143 -1.46283398 -1.47415531 -1.61280243 -1.7131299  -1.78692494\n",
      " -1.85631003 -1.98989791 -2.11462751 -1.90906396 -1.95199287 -2.14681169\n",
      " -1.77143442 -1.55815674 -1.48840245 -1.35114367 -1.27027958 -1.04875251\n",
      " -1.00128962 -0.67767925]\n"
     ]
    }
   ],
   "source": [
    "N = 50\n",
    "np.random.seed(0) #当我们设置相同的seed，每次生成的随机数相同。如果不设置seed，则每次会生成不同的随机数\n",
    "x = np.sort(np.random.uniform(0, 6, N), axis=0)\n",
    "y = 2*np.sin(x) + 0.1*np.random.randn(N)\n",
    "x = x.reshape(-1, 1)\n",
    "print('x =\\n', x)\n",
    "print('y =\\n', y)"
   ]
  },
  {
   "cell_type": "code",
   "execution_count": 5,
   "metadata": {},
   "outputs": [
    {
     "name": "stdout",
     "output_type": "stream",
     "text": [
      "验证参数：\n",
      " {'C': 35.938136638046259, 'gamma': 0.59948425031894093}\n"
     ]
    }
   ],
   "source": [
    "model=svm.SVR(kernel='rbf')\n",
    "c_can = np.logspace(-2,2,10)\n",
    "gamma_can = np.logspace(-2,2,10)\n",
    "svr = GridSearchCV(model, param_grid = {'C':c_can, 'gamma': gamma_can}, cv=5)\n",
    "svr.fit(x,y)\n",
    "print('验证参数：\\n', svr.best_params_)"
   ]
  },
  {
   "cell_type": "code",
   "execution_count": 6,
   "metadata": {},
   "outputs": [
    {
     "data": {
      "image/png": "[encoded data removed]",
      "text/plain": [
       "<matplotlib.figure.Figure at 0x1e95eff5dd8>"
      ]
     },
     "metadata": {},
     "output_type": "display_data"
    }
   ],
   "source": [
    "    x_test = np.linspace(x.min(), x.max(), 100).reshape(-1, 1)\n",
    "    y_hat = svr.predict(x_test)\n",
    "\n",
    "    sp = svr.best_estimator_.support_\n",
    "    plt.figure(facecolor='w')\n",
    "    plt.scatter(x[sp], y[sp], s=120, c='r', marker='*', label='Support Vectors', zorder=3)\n",
    "    plt.plot(x_test, y_hat, 'r-', linewidth=2, label='RBF Kernel')\n",
    "    plt.plot(x, y, 'go', markersize=5)\n",
    "    plt.legend(loc='upper right')\n",
    "    plt.title('SVR', fontsize=16)\n",
    "    plt.xlabel('X')\n",
    "    plt.ylabel('Y')\n",
    "    plt.grid(True)\n",
    "    plt.show()"
   ]
  }
 ],
 "metadata": {
  "kernelspec": {
   "display_name": "Python 3",
   "language": "python",
   "name": "python3"
  },
  "language_info": {
   "codemirror_mode": {
    "name": "ipython",
    "version": 3
   },
   "file_extension": ".py",
   "mimetype": "text/x-python",
   "name": "python",
   "nbconvert_exporter": "python",
   "pygments_lexer": "ipython3",
   "version": "3.6.1"
  }
 },
 "nbformat": 4,
 "nbformat_minor": 2
}
